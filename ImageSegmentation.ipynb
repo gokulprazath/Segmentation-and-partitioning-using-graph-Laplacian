{
 "cells": [
  {
   "cell_type": "markdown",
   "metadata": {},
   "source": [
    "# Image Segmentation"
   ]
  },
  {
   "cell_type": "code",
   "execution_count": 1,
   "metadata": {},
   "outputs": [],
   "source": [
    "%matplotlib inline"
   ]
  },
  {
   "cell_type": "code",
   "execution_count": 2,
   "metadata": {},
   "outputs": [],
   "source": [
    "import numpy as np\n",
    "import scipy as sp\n",
    "from scipy import sparse\n",
    "from scipy.sparse import linalg\n",
    "from scipy import linalg as la\n",
    "from matplotlib import pyplot as plt\n",
    "import numpy as np\n",
    "from scipy import linalg as la\n",
    "from matplotlib import pyplot as plt\n",
    "from scipy.sparse import lil_matrix as lil\n",
    "from scipy.sparse import spdiags\n",
    "from scipy.sparse import csc_matrix\n",
    "from scipy.linalg import eig\n",
    "from scipy.sparse.linalg import eigs as sp_eigs"
   ]
  },
  {
   "cell_type": "markdown",
   "metadata": {},
   "source": [
    "## Reading the image:"
   ]
  },
  {
   "cell_type": "code",
   "execution_count": 3,
   "metadata": {},
   "outputs": [],
   "source": [
    "def getImage(filename):\n",
    "    # Reading the image\n",
    "    img_color = plt.imread(filename)\n",
    "    # Brightness is the average of RGB values\n",
    "    img_brightness = (img_color[:,:,0]+img_color[:,:,1]+img_color[:,:,2])/3\n",
    "    return img_color,img_brightness"
   ]
  },
  {
   "cell_type": "markdown",
   "metadata": {},
   "source": [
    "## Finding the neighbours: "
   ]
  },
  {
   "cell_type": "code",
   "execution_count": 4,
   "metadata": {},
   "outputs": [],
   "source": [
    "def getNeighbors(index, radius, height, width):\n",
    "    \"\"\"\n",
    "    Objective: Calculate the flattened indices of the pixels that are within the given distance of a central pixel,\n",
    "    and their distances from the central pixel.\n",
    "\n",
    "    Parameters:\n",
    "    index: The index of a central pixel in a flattened image array with original shape (radius, height).\n",
    "    radius: Radius of the neighborhood around the central pixel.\n",
    "    height & width: The height & width of the original image in pixels.\n",
    "\n",
    "    Returns:\n",
    "    indices: the indices of the pixels that are within the specified \n",
    "    radius of the central pixel, with respect to the flattened image.\n",
    "    distances: the euclidean distances from the neighborhood pixels to\n",
    "    the central pixel.\n",
    "    \"\"\"\n",
    "    # Find appropriate row, column in unflattened image for flattened index\n",
    "    row, col = index//width, index%width\n",
    "    # Cast radius to an int (so we can use arange)\n",
    "    r = int(radius)\n",
    "    # Make a square grid of side length 2*r centered at index\n",
    "    x = np.arange(max(col - r, 0), min(col + r+1, width))\n",
    "    y = np.arange(max(row - r, 0), min(row + r+1, height))\n",
    "    X, Y = np.meshgrid(x, y)\n",
    "    # Narrows down the desired indices using Euclidean norm\n",
    "    # (i.e. cutting off corners of square to make circle)\n",
    "    R = np.sqrt(((X-np.float(col))**2+(Y-np.float(row))**2))\n",
    "    mask = (R<radius)\n",
    "    indices = X[mask] + Y[mask]*width\n",
    "    distances = R[mask]\n",
    "    # Return the indices of flattened array and corresponding distances\n",
    "    return (indices, distances)\n"
   ]
  },
  {
   "cell_type": "markdown",
   "metadata": {},
   "source": [
    "## Creating a weighted adjacency matrix:"
   ]
  },
  {
   "cell_type": "code",
   "execution_count": 5,
   "metadata": {},
   "outputs": [],
   "source": [
    "# Creating the weighted adjacency matrix \n",
    "def adjacency(img_brightness, radius = 5.0, sigma_I = .15, sigma_d = 1.7):\n",
    "    # Finding height and width of the image\n",
    "    h, w = img_brightness.shape\n",
    "    # Flattening the brightness matrix\n",
    "    bright_flat = img_brightness.flatten()\n",
    "    n = bright_flat.shape[0]\n",
    "    # Creating a sparse matrix to store adjacency matrix\n",
    "    W = sp.sparse.lil_matrix((n,n))\n",
    "    D = np.zeros(n)\n",
    "    \n",
    "    for p in range(n):\n",
    "        # Finding neighbours for each of the vertices\n",
    "        indices, distance = getNeighbors(p, radius, w, h)\n",
    "        # Calculating weight according to equation & assigning to adjacency matrix\n",
    "        for i in range(len(indices)):\n",
    "            W[p, int(indices[i])] = np.exp(-(abs(bright_flat[p] - bright_flat[int(indices[i])])\n",
    "                                             //(sigma_I**2))-(distance[i]//sigma_d**2))\n",
    "        # Degree matrix element = sum of adjacency matrix row \n",
    "        D[p] = W[p].sum()\n",
    "        \n",
    "    return W.asformat('csc'), D"
   ]
  },
  {
   "cell_type": "markdown",
   "metadata": {},
   "source": [
    "## Partioning:"
   ]
  },
  {
   "cell_type": "code",
   "execution_count": 6,
   "metadata": {},
   "outputs": [],
   "source": [
    "def partitioning(img_brightness, img_color):\n",
    "    m, n = img_brightness.shape\n",
    "    # Calling the adjacency function\n",
    "    A, D = adjacency(img_brightness)\n",
    "    \n",
    "    d = 1/np.sqrt(D)\n",
    "    # Reshaping to align with the original image\n",
    "    d = sp.sparse.spdiags(d, 0, A.shape[0], A.shape[1])\n",
    "    D = sp.sparse.spdiags(D, 0, A.shape[0], A.shape[1])\n",
    "    # Creating the Laplacian matrix\n",
    "    L = D - A\n",
    "    \n",
    "    # D^-1/2 * L * D^-1/2\n",
    "    c = np.dot(d, L)\n",
    "    c = np.dot(c, d)\n",
    "    # Finding 2nd smallest eigenvalue and eigenvector\n",
    "    e_val, e_vec = sp.sparse.linalg.eigs(c, which='SR') #SR --> Smallest real part\n",
    "    # Creating the mask\n",
    "    mask = e_vec[:,1]\n",
    "    size = mask.shape[0]\n",
    "    pos, neg = np.zeros(size), np.zeros(size)\n",
    "    for x in range(size):\n",
    "        # If eigenvalue is positive\n",
    "        if mask[x] > 0:\n",
    "            pos[x] = 1\n",
    "        # If eigenvalue is negative\n",
    "        elif mask[x] < 0:\n",
    "            neg[x] = 1\n",
    "    # Reshaping to fit image size\n",
    "    pos = np.reshape(pos, (m,n))\n",
    "    neg = np.reshape(neg, (m,n))\n",
    "    pos = np.dstack((pos, pos, pos))\n",
    "    neg = np.dstack((neg, neg, neg))\n",
    "    # Finding positive segment of the image\n",
    "    seg1 = np.multiply(img_color,pos)\n",
    "    # Finding negative segment of the image\n",
    "    seg2 = np.multiply(img_color,neg)\n",
    "    return seg1, seg2, pos, neg"
   ]
  },
  {
   "cell_type": "markdown",
   "metadata": {},
   "source": [
    "## Displaying the partitioned graph:"
   ]
  },
  {
   "cell_type": "code",
   "execution_count": 7,
   "metadata": {},
   "outputs": [],
   "source": [
    "# Displays the original, positive & negative segments of the image\n",
    "def displayPosNeg(img_color,pos,neg):\n",
    "    plt.subplot(131)\n",
    "    plt.imshow(img_color)\n",
    "    plt.subplot(132)\n",
    "    plt.imshow(neg)\n",
    "    plt.subplot(133)\n",
    "    plt.imshow(pos)\n",
    "    plt.show()"
   ]
  },
  {
   "cell_type": "code",
   "execution_count": 8,
   "metadata": {},
   "outputs": [
    {
     "name": "stdout",
     "output_type": "stream",
     "text": [
      "Original image, mask 1 and mask 2:\n"
     ]
    },
    {
     "data": {
      "image/png": "[encoded data removed]",
      "text/plain": [
       "<Figure size 432x288 with 3 Axes>"
      ]
     },
     "metadata": {
      "needs_background": "light"
     },
     "output_type": "display_data"
    },
    {
     "name": "stdout",
     "output_type": "stream",
     "text": [
      "Original image, segment 1 and segment 2:\n"
     ]
    },
    {
     "data": {
      "image/png": "[encoded data removed]",
      "text/plain": [
       "<Figure size 432x288 with 3 Axes>"
      ]
     },
     "metadata": {
      "needs_background": "light"
     },
     "output_type": "display_data"
    }
   ],
   "source": [
    "img_color, img_brightness = getImage('dream.png')\n",
    "seg1, seg2, pos, neg = partitioning(img_brightness, img_color)\n",
    "# Displaying mask\n",
    "print(\"Original image, mask 1 and mask 2:\")\n",
    "displayPosNeg(img_color, pos, neg)\n",
    "# Displaying mask on image\n",
    "print(\"Original image, segment 1 and segment 2:\")\n",
    "displayPosNeg(img_color, seg1, seg2)"
   ]
  }
 ],
 "metadata": {
  "kernelspec": {
   "display_name": "Python 3 (ipykernel)",
   "language": "python",
   "name": "python3"
  },
  "language_info": {
   "codemirror_mode": {
    "name": "ipython",
    "version": 3
   },
   "file_extension": ".py",
   "mimetype": "text/x-python",
   "name": "python",
   "nbconvert_exporter": "python",
   "pygments_lexer": "ipython3",
   "version": "3.9.7"
  }
 },
 "nbformat": 4,
 "nbformat_minor": 1
}
