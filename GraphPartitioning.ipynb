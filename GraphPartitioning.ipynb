{
 "cells": [
  {
   "cell_type": "markdown",
   "metadata": {},
   "source": [
    "#  Basic Code Implementation for Graph Laplacian"
   ]
  },
  {
   "cell_type": "code",
   "execution_count": 129,
   "metadata": {},
   "outputs": [],
   "source": [
    "import numpy as np\n",
    "import pandas as pd\n",
    "from numpy import linalg\n",
    "import matplotlib.pyplot as plt\n",
    "import networkx as nx "
   ]
  },
  {
   "cell_type": "markdown",
   "metadata": {},
   "source": [
    "## Creating the Adjacency and Laplacian matrices:"
   ]
  },
  {
   "cell_type": "code",
   "execution_count": 130,
   "metadata": {},
   "outputs": [],
   "source": [
    "# Function that creates the Adjacency matrix\n",
    "def Adjacency(A):\n",
    "    n=np.amax(A)+1\n",
    "    X=np.zeros((n,n))\n",
    "    for c in A:\n",
    "        c=c.T\n",
    "        X[c[0]][c[1]]=1\n",
    "        X[c[1]][c[0]]=1 \n",
    "    return X"
   ]
  },
  {
   "cell_type": "code",
   "execution_count": 131,
   "metadata": {},
   "outputs": [],
   "source": [
    "def generate_graph_laplacian(df):\n",
    "    W=Adjacency(A)\n",
    "    # Degree of a node = Sum of corresponding row in Adjacency matrix\n",
    "    D=np.diag(W.sum(axis = 1))\n",
    "    # Laplacian = Degree - Adjacency\n",
    "    L=D-W\n",
    "    return L"
   ]
  },
  {
   "cell_type": "markdown",
   "metadata": {},
   "source": [
    "## Computing the eigenvalues & eigenvectors: "
   ]
  },
  {
   "cell_type": "code",
   "execution_count": 132,
   "metadata": {},
   "outputs": [],
   "source": [
    "def compute_spectrum_graph_laplacian(graph_laplacian):\n",
    "    eigenvals, eigenvcts = linalg.eig(graph_laplacian)\n",
    "    # Taking the real part of the eigen values and eigen vectors\n",
    "    eigenvals = np.real(eigenvals)\n",
    "    eigenvcts = np.real(eigenvcts)\n",
    "    return eigenvals, eigenvcts"
   ]
  },
  {
   "cell_type": "markdown",
   "metadata": {},
   "source": [
    "## Finding the 2nd smallest eigenvalue & corresponding eigenvector:"
   ]
  },
  {
   "cell_type": "code",
   "execution_count": 133,
   "metadata": {},
   "outputs": [],
   "source": [
    "def project_and_transpose(eigenvals, eigenvcts):\n",
    "    eigenvals_sorted_indices = np.argsort(eigenvals) #Returns the indices that would sort an array\n",
    "    c = 0 #Variable which counts the number of eigenvalues that are almost 0\n",
    "    for i in eigenvals:\n",
    "        # Setting tolerance for eigenvalue \n",
    "        if i<1e-4: #If value < tol --> taking eigenvalue = 0\n",
    "            c += 1\n",
    "    # Finding indices of 2nd smallest eigenvalue\n",
    "    indices = eigenvals_sorted_indices[:c+1]\n",
    "    # Taking the corresponding eigenvector\n",
    "    proj_df = pd.DataFrame(eigenvcts[:, indices.squeeze()])\n",
    "    soln = proj_df[len(proj_df.T)-1]\n",
    "    return soln"
   ]
  },
  {
   "cell_type": "markdown",
   "metadata": {},
   "source": [
    "## Partitioning:"
   ]
  },
  {
   "cell_type": "code",
   "execution_count": 134,
   "metadata": {},
   "outputs": [],
   "source": [
    "def lap_graph_partitioning(A):\n",
    "    x,y = compute_spectrum_graph_laplacian(generate_graph_laplacian(A))\n",
    "    pro = project_and_transpose(x,y)\n",
    "    d={} #Empty dictionary to store the indices and corresponding partition\n",
    "    c=0\n",
    "    for i in pro:\n",
    "        if i<0:  #If entry is negative --> node corresponds to partition A\n",
    "            d[c]='A'\n",
    "            c=c+1\n",
    "        else:   #If entry is positive --> node corresponds to partition B\n",
    "            d[c]='B' \n",
    "            c=c+1\n",
    "    return d"
   ]
  },
  {
   "cell_type": "code",
   "execution_count": 135,
   "metadata": {},
   "outputs": [
    {
     "name": "stdout",
     "output_type": "stream",
     "text": [
      "Nodes with their corresponding partition:\n",
      " {0: 'A', 1: 'A', 2: 'A', 3: 'A', 4: 'A', 5: 'B', 6: 'B', 7: 'B'}\n"
     ]
    }
   ],
   "source": [
    "A = np.array(pd.read_excel('inp_lap.xlsx'))\n",
    "d = lap_graph_partitioning(A)\n",
    "print(\"Nodes with their corresponding partition:\\n\", d)"
   ]
  },
  {
   "cell_type": "markdown",
   "metadata": {},
   "source": [
    "## Visualing the output:"
   ]
  },
  {
   "cell_type": "code",
   "execution_count": 136,
   "metadata": {},
   "outputs": [
    {
     "data": {
      "image/png": "[encoded data removed]",
      "text/plain": [
       "<Figure size 432x288 with 1 Axes>"
      ]
     },
     "metadata": {},
     "output_type": "display_data"
    }
   ],
   "source": [
    "G = nx.Graph() \n",
    "G.add_edges_from(A)\n",
    "c=0\n",
    "nc=[]\n",
    "for i in G:\n",
    "    if d[i]=='A':\n",
    "        nc.append('r')\n",
    "    else:\n",
    "        nc.append('b')\n",
    "  \n",
    "nx.draw_networkx(G,node_color = nc, alpha = 0.7,  \n",
    "                 with_labels = True,cmap = plt.cm.Blues) "
   ]
  }
 ],
 "metadata": {
  "kernelspec": {
   "display_name": "Python 3 (ipykernel)",
   "language": "python",
   "name": "python3"
  },
  "language_info": {
   "codemirror_mode": {
    "name": "ipython",
    "version": 3
   },
   "file_extension": ".py",
   "mimetype": "text/x-python",
   "name": "python",
   "nbconvert_exporter": "python",
   "pygments_lexer": "ipython3",
   "version": "3.9.7"
  }
 },
 "nbformat": 4,
 "nbformat_minor": 4
}
